{
  "nbformat": 4,
  "nbformat_minor": 0,
  "metadata": {
    "colab": {
      "provenance": [],
      "authorship_tag": "ABX9TyNFqcmtL4vj7OtRMqH1pcO+",
      "include_colab_link": true
    },
    "kernelspec": {
      "name": "python3",
      "display_name": "Python 3"
    },
    "language_info": {
      "name": "python"
    }
  },
  "cells": [
    {
      "cell_type": "markdown",
      "metadata": {
        "id": "view-in-github",
        "colab_type": "text"
      },
      "source": [
        "<a href=\"https://colab.research.google.com/github/marreapato/BD-CIN2024/blob/main/teste_logica_projeto_2/Transactions_Test.ipynb\" target=\"_parent\"><img src=\"https://colab.research.google.com/assets/colab-badge.svg\" alt=\"Open In Colab\"/></a>"
      ]
    },
    {
      "cell_type": "code",
      "execution_count": 1,
      "metadata": {
        "id": "f1402F6Jm3Ok"
      },
      "outputs": [],
      "source": [
        "Transactions = [{\"name\": \"Transaction 1\", \"operations\": [\"Read x\", \"Write y\"]},\n",
        "            {\"name\": \"Transaction 2\", \"operations\": [\"Read y\", \"Write x\"]},\n",
        "            {\"name\": \"Transaction 3\", \"operations\": [\"Read z\", \"Write z\"]},\n",
        "            {\"name\": \"Transaction 4\", \"operations\": [\"Read x\", \"Read y\", \"Write z\"]},\n",
        "            {\"name\": \"Transaction 5\", \"operations\": [\"Read y\", \"Read z\", \"Write x\"]}]"
      ]
    },
    {
      "cell_type": "code",
      "source": [
        "if set(last_characters_t1) & set(last_characters_t2):\n",
        "  print(\"arros\")\n",
        "else:\n",
        "  print('f')"
      ],
      "metadata": {
        "colab": {
          "base_uri": "https://localhost:8080/"
        },
        "id": "M-e8DeN54rPZ",
        "outputId": "a503f1d1-fb2e-45be-9b6e-53f48d979950"
      },
      "execution_count": 25,
      "outputs": [
        {
          "output_type": "stream",
          "name": "stdout",
          "text": [
            "arros\n"
          ]
        }
      ]
    },
    {
      "cell_type": "code",
      "source": [
        "while True:\n",
        "  primeira = int(input('choose a first transaction: '))\n",
        "  primeira = primeira-1\n",
        "  print('Transactions chosen:')\n",
        "  print('\\n'+Transactions[primeira]['name'])\n",
        "  print(Transactions[primeira]['operations'])\n",
        "\n",
        "  segunda = int(input('choose a concurrent transaction: '))\n",
        "  segunda = segunda-1\n",
        "  print('Transactions chosen:')\n",
        "  print('\\n'+Transactions[segunda]['name'])\n",
        "  print(Transactions[segunda]['operations'])\n",
        "\n",
        "  operacoes_t1 = Transactions[primeira]['operations']\n",
        "  operacoes_t2 = Transactions[segunda]['operations']\n",
        "\n",
        "  last_characters_t1 = [item[-1] for item in operacoes_t1]\n",
        "\n",
        "  last_characters_t2 = [item[-1] for item in operacoes_t2]\n",
        "\n",
        "  items_of_t1 = set(last_characters_t1)\n",
        "  items_of_t2 = set(last_characters_t2)\n",
        "\n",
        "  intersect_t1_t2 = set(last_characters_t1) & set(last_characters_t2)\n",
        "\n",
        "  if intersect_t1_t2:\n",
        "    print('Deadlock')\n",
        "  else:\n",
        "    print('Salvo no Log do Disco')\n",
        "\n",
        "  leave = input('leave? ')\n",
        "  if leave == 'y':\n",
        "    break\n"
      ],
      "metadata": {
        "colab": {
          "base_uri": "https://localhost:8080/"
        },
        "id": "J_Uujtf9nHtW",
        "outputId": "968e3528-2c32-4de7-f1c6-49747cb3034d"
      },
      "execution_count": 26,
      "outputs": [
        {
          "name": "stdout",
          "output_type": "stream",
          "text": [
            "choose a first transaction: 1\n",
            "Transactions chosen:\n",
            "\n",
            "Transaction 1\n",
            "['Read x', 'Write y']\n",
            "choose a concurrent transaction: 2\n",
            "Transactions chosen:\n",
            "\n",
            "Transaction 2\n",
            "['Read y', 'Write x']\n",
            "Deadlock\n",
            "leave? n\n",
            "choose a first transaction: 1\n",
            "Transactions chosen:\n",
            "\n",
            "Transaction 1\n",
            "['Read x', 'Write y']\n",
            "choose a concurrent transaction: 2\n",
            "Transactions chosen:\n",
            "\n",
            "Transaction 2\n",
            "['Read y', 'Write x']\n",
            "Deadlock\n",
            "leave? 1\n",
            "choose a first transaction: 3\n",
            "Transactions chosen:\n",
            "\n",
            "Transaction 3\n",
            "['Read z', 'Write z']\n",
            "choose a concurrent transaction: 1\n",
            "Transactions chosen:\n",
            "\n",
            "Transaction 1\n",
            "['Read x', 'Write y']\n",
            "Salvo no Log do Disco\n",
            "leave? y\n"
          ]
        }
      ]
    }
  ]
}